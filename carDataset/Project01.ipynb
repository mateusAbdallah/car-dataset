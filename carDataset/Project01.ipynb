{
 "cells": [
  {
   "cell_type": "markdown",
   "id": "50357a8a",
   "metadata": {},
   "source": [
    "## Group : Alexandre Brasileiro Fernandes, Jorge Cordeiro Beleza da Silva, Mateus Abdallah Fonseca"
   ]
  },
  {
   "cell_type": "markdown",
   "id": "ac6727ed",
   "metadata": {},
   "source": [
    "## Import libraries"
   ]
  },
  {
   "cell_type": "code",
   "execution_count": 269,
   "id": "3ec51cef",
   "metadata": {},
   "outputs": [],
   "source": [
    "# Importing python libraries\n",
    "import numpy as np\n",
    "import pandas as pd\n",
    "import matplotlib.pyplot as plt\n",
    "\n",
    "# So that the plot will be saved within the jupyter notebook\n",
    "%matplotlib inline"
   ]
  },
  {
   "cell_type": "markdown",
   "id": "16310c29",
   "metadata": {},
   "source": [
    "# Part A. Regression Modelling Requirement"
   ]
  },
  {
   "cell_type": "markdown",
   "id": "3a3bd418",
   "metadata": {},
   "source": [
    "## Reading the dataset, get some informations and handling missing rows"
   ]
  },
  {
   "cell_type": "code",
   "execution_count": 270,
   "id": "4271a362",
   "metadata": {},
   "outputs": [
    {
     "data": {
      "text/html": [
       "<div>\n",
       "<style scoped>\n",
       "    .dataframe tbody tr th:only-of-type {\n",
       "        vertical-align: middle;\n",
       "    }\n",
       "\n",
       "    .dataframe tbody tr th {\n",
       "        vertical-align: top;\n",
       "    }\n",
       "\n",
       "    .dataframe thead th {\n",
       "        text-align: right;\n",
       "    }\n",
       "</style>\n",
       "<table border=\"1\" class=\"dataframe\">\n",
       "  <thead>\n",
       "    <tr style=\"text-align: right;\">\n",
       "      <th></th>\n",
       "      <th>model</th>\n",
       "      <th>year</th>\n",
       "      <th>price</th>\n",
       "      <th>transmission</th>\n",
       "      <th>mileage</th>\n",
       "      <th>fuel type</th>\n",
       "      <th>engine size</th>\n",
       "      <th>mileage2</th>\n",
       "      <th>fuel type2</th>\n",
       "      <th>engine size2</th>\n",
       "      <th>reference</th>\n",
       "    </tr>\n",
       "  </thead>\n",
       "  <tbody>\n",
       "    <tr>\n",
       "      <th>0</th>\n",
       "      <td>C Class</td>\n",
       "      <td>2020.0</td>\n",
       "      <td>£30,495</td>\n",
       "      <td>Automatic</td>\n",
       "      <td>NaN</td>\n",
       "      <td>Diesel</td>\n",
       "      <td>2</td>\n",
       "      <td>1,200</td>\n",
       "      <td>NaN</td>\n",
       "      <td>NaN</td>\n",
       "      <td>/ad/25017331</td>\n",
       "    </tr>\n",
       "    <tr>\n",
       "      <th>1</th>\n",
       "      <td>C Class</td>\n",
       "      <td>2020.0</td>\n",
       "      <td>£29,989</td>\n",
       "      <td>Automatic</td>\n",
       "      <td>NaN</td>\n",
       "      <td>Petrol</td>\n",
       "      <td>1.5</td>\n",
       "      <td>1,000</td>\n",
       "      <td>NaN</td>\n",
       "      <td>NaN</td>\n",
       "      <td>/ad/25043746</td>\n",
       "    </tr>\n",
       "    <tr>\n",
       "      <th>2</th>\n",
       "      <td>C Class</td>\n",
       "      <td>2020.0</td>\n",
       "      <td>£37,899</td>\n",
       "      <td>Automatic</td>\n",
       "      <td>NaN</td>\n",
       "      <td>Diesel</td>\n",
       "      <td>2</td>\n",
       "      <td>500</td>\n",
       "      <td>NaN</td>\n",
       "      <td>NaN</td>\n",
       "      <td>/ad/25142894</td>\n",
       "    </tr>\n",
       "    <tr>\n",
       "      <th>3</th>\n",
       "      <td>C Class</td>\n",
       "      <td>2019.0</td>\n",
       "      <td>£30,399</td>\n",
       "      <td>Automatic</td>\n",
       "      <td>NaN</td>\n",
       "      <td>Diesel</td>\n",
       "      <td>2</td>\n",
       "      <td>5,000</td>\n",
       "      <td>NaN</td>\n",
       "      <td>NaN</td>\n",
       "      <td>/ad/24942816</td>\n",
       "    </tr>\n",
       "    <tr>\n",
       "      <th>4</th>\n",
       "      <td>C Class</td>\n",
       "      <td>2019.0</td>\n",
       "      <td>£29,899</td>\n",
       "      <td>Automatic</td>\n",
       "      <td>NaN</td>\n",
       "      <td>Diesel</td>\n",
       "      <td>2</td>\n",
       "      <td>4,500</td>\n",
       "      <td>NaN</td>\n",
       "      <td>NaN</td>\n",
       "      <td>/ad/24913660</td>\n",
       "    </tr>\n",
       "  </tbody>\n",
       "</table>\n",
       "</div>"
      ],
      "text/plain": [
       "      model    year     price transmission mileage fuel type engine size  \\\n",
       "0   C Class  2020.0   £30,495    Automatic     NaN    Diesel           2   \n",
       "1   C Class  2020.0   £29,989    Automatic     NaN    Petrol         1.5   \n",
       "2   C Class  2020.0   £37,899    Automatic     NaN    Diesel           2   \n",
       "3   C Class  2019.0   £30,399    Automatic     NaN    Diesel           2   \n",
       "4   C Class  2019.0   £29,899    Automatic     NaN    Diesel           2   \n",
       "\n",
       "  mileage2 fuel type2 engine size2     reference  \n",
       "0    1,200        NaN          NaN  /ad/25017331  \n",
       "1    1,000        NaN          NaN  /ad/25043746  \n",
       "2      500        NaN          NaN  /ad/25142894  \n",
       "3    5,000        NaN          NaN  /ad/24942816  \n",
       "4    4,500        NaN          NaN  /ad/24913660  "
      ]
     },
     "execution_count": 270,
     "metadata": {},
     "output_type": "execute_result"
    }
   ],
   "source": [
    "# Load the dataset and get a peak \n",
    "df = pd.read_csv('unclean_data.csv')\n",
    "df.head()"
   ]
  },
  {
   "cell_type": "code",
   "execution_count": 271,
   "id": "53606c4b",
   "metadata": {},
   "outputs": [
    {
     "name": "stdout",
     "output_type": "stream",
     "text": [
      "<class 'pandas.core.frame.DataFrame'>\n",
      "RangeIndex: 4006 entries, 0 to 4005\n",
      "Data columns (total 11 columns):\n",
      " #   Column        Non-Null Count  Dtype  \n",
      "---  ------        --------------  -----  \n",
      " 0   model         3907 non-null   object \n",
      " 1   year          3904 non-null   float64\n",
      " 2   price         3907 non-null   object \n",
      " 3   transmission  3907 non-null   object \n",
      " 4   mileage       3808 non-null   object \n",
      " 5   fuel type     1329 non-null   object \n",
      " 6   engine size   3842 non-null   object \n",
      " 7   mileage2      3890 non-null   object \n",
      " 8   fuel type2    3808 non-null   object \n",
      " 9   engine size2  3808 non-null   object \n",
      " 10  reference     3907 non-null   object \n",
      "dtypes: float64(1), object(10)\n",
      "memory usage: 344.4+ KB\n"
     ]
    }
   ],
   "source": [
    "# Summary of datatypes\n",
    "df.info()"
   ]
  },
  {
   "cell_type": "code",
   "execution_count": 272,
   "id": "4657bb48",
   "metadata": {},
   "outputs": [
    {
     "data": {
      "text/plain": [
       "model             99\n",
       "year             102\n",
       "price             99\n",
       "transmission      99\n",
       "mileage          198\n",
       "fuel type       2677\n",
       "engine size      164\n",
       "mileage2         116\n",
       "fuel type2       198\n",
       "engine size2     198\n",
       "reference         99\n",
       "dtype: int64"
      ]
     },
     "execution_count": 272,
     "metadata": {},
     "output_type": "execute_result"
    }
   ],
   "source": [
    "# Get the sum of all null values in each column\n",
    "df.isnull().sum()"
   ]
  },
  {
   "cell_type": "code",
   "execution_count": 273,
   "id": "3b7dac85",
   "metadata": {},
   "outputs": [
    {
     "data": {
      "text/html": [
       "<div>\n",
       "<style scoped>\n",
       "    .dataframe tbody tr th:only-of-type {\n",
       "        vertical-align: middle;\n",
       "    }\n",
       "\n",
       "    .dataframe tbody tr th {\n",
       "        vertical-align: top;\n",
       "    }\n",
       "\n",
       "    .dataframe thead th {\n",
       "        text-align: right;\n",
       "    }\n",
       "</style>\n",
       "<table border=\"1\" class=\"dataframe\">\n",
       "  <thead>\n",
       "    <tr style=\"text-align: right;\">\n",
       "      <th></th>\n",
       "      <th>model</th>\n",
       "      <th>year</th>\n",
       "      <th>price</th>\n",
       "      <th>transmission</th>\n",
       "      <th>mileage</th>\n",
       "      <th>fuel type</th>\n",
       "      <th>engine size</th>\n",
       "      <th>mileage2</th>\n",
       "      <th>fuel type2</th>\n",
       "      <th>engine size2</th>\n",
       "      <th>reference</th>\n",
       "    </tr>\n",
       "  </thead>\n",
       "  <tbody>\n",
       "    <tr>\n",
       "      <th>0</th>\n",
       "      <td>C Class</td>\n",
       "      <td>2020.0</td>\n",
       "      <td>£30,495</td>\n",
       "      <td>Automatic</td>\n",
       "      <td>NaN</td>\n",
       "      <td>Diesel</td>\n",
       "      <td>2</td>\n",
       "      <td>1,200</td>\n",
       "      <td>NaN</td>\n",
       "      <td>NaN</td>\n",
       "      <td>/ad/25017331</td>\n",
       "    </tr>\n",
       "    <tr>\n",
       "      <th>1</th>\n",
       "      <td>C Class</td>\n",
       "      <td>2020.0</td>\n",
       "      <td>£29,989</td>\n",
       "      <td>Automatic</td>\n",
       "      <td>NaN</td>\n",
       "      <td>Petrol</td>\n",
       "      <td>1.5</td>\n",
       "      <td>1,000</td>\n",
       "      <td>NaN</td>\n",
       "      <td>NaN</td>\n",
       "      <td>/ad/25043746</td>\n",
       "    </tr>\n",
       "    <tr>\n",
       "      <th>2</th>\n",
       "      <td>C Class</td>\n",
       "      <td>2020.0</td>\n",
       "      <td>£37,899</td>\n",
       "      <td>Automatic</td>\n",
       "      <td>NaN</td>\n",
       "      <td>Diesel</td>\n",
       "      <td>2</td>\n",
       "      <td>500</td>\n",
       "      <td>NaN</td>\n",
       "      <td>NaN</td>\n",
       "      <td>/ad/25142894</td>\n",
       "    </tr>\n",
       "    <tr>\n",
       "      <th>3</th>\n",
       "      <td>C Class</td>\n",
       "      <td>2019.0</td>\n",
       "      <td>£30,399</td>\n",
       "      <td>Automatic</td>\n",
       "      <td>NaN</td>\n",
       "      <td>Diesel</td>\n",
       "      <td>2</td>\n",
       "      <td>5,000</td>\n",
       "      <td>NaN</td>\n",
       "      <td>NaN</td>\n",
       "      <td>/ad/24942816</td>\n",
       "    </tr>\n",
       "    <tr>\n",
       "      <th>4</th>\n",
       "      <td>C Class</td>\n",
       "      <td>2019.0</td>\n",
       "      <td>£29,899</td>\n",
       "      <td>Automatic</td>\n",
       "      <td>NaN</td>\n",
       "      <td>Diesel</td>\n",
       "      <td>2</td>\n",
       "      <td>4,500</td>\n",
       "      <td>NaN</td>\n",
       "      <td>NaN</td>\n",
       "      <td>/ad/24913660</td>\n",
       "    </tr>\n",
       "    <tr>\n",
       "      <th>5</th>\n",
       "      <td>C Class</td>\n",
       "      <td>2020.0</td>\n",
       "      <td>£30,999</td>\n",
       "      <td>Automatic</td>\n",
       "      <td>NaN</td>\n",
       "      <td>Diesel</td>\n",
       "      <td>2</td>\n",
       "      <td>1,000</td>\n",
       "      <td>NaN</td>\n",
       "      <td>NaN</td>\n",
       "      <td>/ad/25059312</td>\n",
       "    </tr>\n",
       "    <tr>\n",
       "      <th>6</th>\n",
       "      <td>C Class</td>\n",
       "      <td>2020.0</td>\n",
       "      <td>£35,999</td>\n",
       "      <td>Automatic</td>\n",
       "      <td>NaN</td>\n",
       "      <td>Diesel</td>\n",
       "      <td>2</td>\n",
       "      <td>500</td>\n",
       "      <td>NaN</td>\n",
       "      <td>NaN</td>\n",
       "      <td>/ad/25418851</td>\n",
       "    </tr>\n",
       "    <tr>\n",
       "      <th>7</th>\n",
       "      <td>C Class</td>\n",
       "      <td>2019.0</td>\n",
       "      <td>£37,990</td>\n",
       "      <td>Automatic</td>\n",
       "      <td>NaN</td>\n",
       "      <td>Petrol</td>\n",
       "      <td>3</td>\n",
       "      <td>1,412</td>\n",
       "      <td>NaN</td>\n",
       "      <td>NaN</td>\n",
       "      <td>/ad/25449314</td>\n",
       "    </tr>\n",
       "    <tr>\n",
       "      <th>8</th>\n",
       "      <td>C Class</td>\n",
       "      <td>2019.0</td>\n",
       "      <td>£28,990</td>\n",
       "      <td>Automatic</td>\n",
       "      <td>NaN</td>\n",
       "      <td>Diesel</td>\n",
       "      <td>2</td>\n",
       "      <td>3,569</td>\n",
       "      <td>NaN</td>\n",
       "      <td>NaN</td>\n",
       "      <td>/ad/25046820</td>\n",
       "    </tr>\n",
       "    <tr>\n",
       "      <th>9</th>\n",
       "      <td>C Class</td>\n",
       "      <td>2019.0</td>\n",
       "      <td>£28,990</td>\n",
       "      <td>Automatic</td>\n",
       "      <td>NaN</td>\n",
       "      <td>Diesel</td>\n",
       "      <td>2</td>\n",
       "      <td>3,635</td>\n",
       "      <td>NaN</td>\n",
       "      <td>NaN</td>\n",
       "      <td>/ad/25046821</td>\n",
       "    </tr>\n",
       "  </tbody>\n",
       "</table>\n",
       "</div>"
      ],
      "text/plain": [
       "      model    year     price transmission mileage fuel type engine size  \\\n",
       "0   C Class  2020.0   £30,495    Automatic     NaN    Diesel           2   \n",
       "1   C Class  2020.0   £29,989    Automatic     NaN    Petrol         1.5   \n",
       "2   C Class  2020.0   £37,899    Automatic     NaN    Diesel           2   \n",
       "3   C Class  2019.0   £30,399    Automatic     NaN    Diesel           2   \n",
       "4   C Class  2019.0   £29,899    Automatic     NaN    Diesel           2   \n",
       "5   C Class  2020.0   £30,999    Automatic     NaN    Diesel           2   \n",
       "6   C Class  2020.0   £35,999    Automatic     NaN    Diesel           2   \n",
       "7   C Class  2019.0   £37,990    Automatic     NaN    Petrol           3   \n",
       "8   C Class  2019.0   £28,990    Automatic     NaN    Diesel           2   \n",
       "9   C Class  2019.0   £28,990    Automatic     NaN    Diesel           2   \n",
       "\n",
       "  mileage2 fuel type2 engine size2     reference  \n",
       "0    1,200        NaN          NaN  /ad/25017331  \n",
       "1    1,000        NaN          NaN  /ad/25043746  \n",
       "2      500        NaN          NaN  /ad/25142894  \n",
       "3    5,000        NaN          NaN  /ad/24942816  \n",
       "4    4,500        NaN          NaN  /ad/24913660  \n",
       "5    1,000        NaN          NaN  /ad/25059312  \n",
       "6      500        NaN          NaN  /ad/25418851  \n",
       "7    1,412        NaN          NaN  /ad/25449314  \n",
       "8    3,569        NaN          NaN  /ad/25046820  \n",
       "9    3,635        NaN          NaN  /ad/25046821  "
      ]
     },
     "execution_count": 273,
     "metadata": {},
     "output_type": "execute_result"
    }
   ],
   "source": [
    "# Dropping null values and reset the index\n",
    "df.dropna(how='all', inplace=True)\n",
    "df.reset_index(drop=True, inplace=True)\n",
    "df.head(10)"
   ]
  },
  {
   "cell_type": "markdown",
   "id": "5eeec658",
   "metadata": {},
   "source": [
    "## Handling the currency symbols and comma format in price column"
   ]
  },
  {
   "cell_type": "code",
   "execution_count": 274,
   "id": "90e53bd4",
   "metadata": {},
   "outputs": [
    {
     "data": {
      "text/html": [
       "<div>\n",
       "<style scoped>\n",
       "    .dataframe tbody tr th:only-of-type {\n",
       "        vertical-align: middle;\n",
       "    }\n",
       "\n",
       "    .dataframe tbody tr th {\n",
       "        vertical-align: top;\n",
       "    }\n",
       "\n",
       "    .dataframe thead th {\n",
       "        text-align: right;\n",
       "    }\n",
       "</style>\n",
       "<table border=\"1\" class=\"dataframe\">\n",
       "  <thead>\n",
       "    <tr style=\"text-align: right;\">\n",
       "      <th></th>\n",
       "      <th>model</th>\n",
       "      <th>year</th>\n",
       "      <th>price</th>\n",
       "      <th>transmission</th>\n",
       "      <th>mileage</th>\n",
       "      <th>fuel type</th>\n",
       "      <th>engine size</th>\n",
       "      <th>mileage2</th>\n",
       "      <th>fuel type2</th>\n",
       "      <th>engine size2</th>\n",
       "      <th>reference</th>\n",
       "    </tr>\n",
       "  </thead>\n",
       "  <tbody>\n",
       "    <tr>\n",
       "      <th>0</th>\n",
       "      <td>C Class</td>\n",
       "      <td>2020.0</td>\n",
       "      <td>30495</td>\n",
       "      <td>Automatic</td>\n",
       "      <td>NaN</td>\n",
       "      <td>Diesel</td>\n",
       "      <td>2</td>\n",
       "      <td>1,200</td>\n",
       "      <td>NaN</td>\n",
       "      <td>NaN</td>\n",
       "      <td>/ad/25017331</td>\n",
       "    </tr>\n",
       "    <tr>\n",
       "      <th>1</th>\n",
       "      <td>C Class</td>\n",
       "      <td>2020.0</td>\n",
       "      <td>29989</td>\n",
       "      <td>Automatic</td>\n",
       "      <td>NaN</td>\n",
       "      <td>Petrol</td>\n",
       "      <td>1.5</td>\n",
       "      <td>1,000</td>\n",
       "      <td>NaN</td>\n",
       "      <td>NaN</td>\n",
       "      <td>/ad/25043746</td>\n",
       "    </tr>\n",
       "    <tr>\n",
       "      <th>2</th>\n",
       "      <td>C Class</td>\n",
       "      <td>2020.0</td>\n",
       "      <td>37899</td>\n",
       "      <td>Automatic</td>\n",
       "      <td>NaN</td>\n",
       "      <td>Diesel</td>\n",
       "      <td>2</td>\n",
       "      <td>500</td>\n",
       "      <td>NaN</td>\n",
       "      <td>NaN</td>\n",
       "      <td>/ad/25142894</td>\n",
       "    </tr>\n",
       "    <tr>\n",
       "      <th>3</th>\n",
       "      <td>C Class</td>\n",
       "      <td>2019.0</td>\n",
       "      <td>30399</td>\n",
       "      <td>Automatic</td>\n",
       "      <td>NaN</td>\n",
       "      <td>Diesel</td>\n",
       "      <td>2</td>\n",
       "      <td>5,000</td>\n",
       "      <td>NaN</td>\n",
       "      <td>NaN</td>\n",
       "      <td>/ad/24942816</td>\n",
       "    </tr>\n",
       "    <tr>\n",
       "      <th>4</th>\n",
       "      <td>C Class</td>\n",
       "      <td>2019.0</td>\n",
       "      <td>29899</td>\n",
       "      <td>Automatic</td>\n",
       "      <td>NaN</td>\n",
       "      <td>Diesel</td>\n",
       "      <td>2</td>\n",
       "      <td>4,500</td>\n",
       "      <td>NaN</td>\n",
       "      <td>NaN</td>\n",
       "      <td>/ad/24913660</td>\n",
       "    </tr>\n",
       "  </tbody>\n",
       "</table>\n",
       "</div>"
      ],
      "text/plain": [
       "      model    year    price transmission mileage fuel type engine size  \\\n",
       "0   C Class  2020.0    30495    Automatic     NaN    Diesel           2   \n",
       "1   C Class  2020.0    29989    Automatic     NaN    Petrol         1.5   \n",
       "2   C Class  2020.0    37899    Automatic     NaN    Diesel           2   \n",
       "3   C Class  2019.0    30399    Automatic     NaN    Diesel           2   \n",
       "4   C Class  2019.0    29899    Automatic     NaN    Diesel           2   \n",
       "\n",
       "  mileage2 fuel type2 engine size2     reference  \n",
       "0    1,200        NaN          NaN  /ad/25017331  \n",
       "1    1,000        NaN          NaN  /ad/25043746  \n",
       "2      500        NaN          NaN  /ad/25142894  \n",
       "3    5,000        NaN          NaN  /ad/24942816  \n",
       "4    4,500        NaN          NaN  /ad/24913660  "
      ]
     },
     "execution_count": 274,
     "metadata": {},
     "output_type": "execute_result"
    }
   ],
   "source": [
    "# Replace the currency character and the comma from price column\n",
    "df['price'] = df['price'].str.replace('£', ' ')\n",
    "df['price'] = df['price'].str.replace(',', '')\n",
    "df.head()"
   ]
  },
  {
   "cell_type": "markdown",
   "id": "d3cedc56",
   "metadata": {},
   "source": [
    "## Handling non-valid column names"
   ]
  },
  {
   "cell_type": "code",
   "execution_count": 275,
   "id": "78d8194c",
   "metadata": {},
   "outputs": [
    {
     "data": {
      "text/html": [
       "<div>\n",
       "<style scoped>\n",
       "    .dataframe tbody tr th:only-of-type {\n",
       "        vertical-align: middle;\n",
       "    }\n",
       "\n",
       "    .dataframe tbody tr th {\n",
       "        vertical-align: top;\n",
       "    }\n",
       "\n",
       "    .dataframe thead th {\n",
       "        text-align: right;\n",
       "    }\n",
       "</style>\n",
       "<table border=\"1\" class=\"dataframe\">\n",
       "  <thead>\n",
       "    <tr style=\"text-align: right;\">\n",
       "      <th></th>\n",
       "      <th>model</th>\n",
       "      <th>year</th>\n",
       "      <th>price</th>\n",
       "      <th>transmission</th>\n",
       "      <th>mileage</th>\n",
       "      <th>fuel_type</th>\n",
       "      <th>engine_size</th>\n",
       "      <th>mileage2</th>\n",
       "      <th>fuel_type2</th>\n",
       "      <th>engine_size2</th>\n",
       "      <th>reference</th>\n",
       "    </tr>\n",
       "  </thead>\n",
       "  <tbody>\n",
       "    <tr>\n",
       "      <th>0</th>\n",
       "      <td>C Class</td>\n",
       "      <td>2020.0</td>\n",
       "      <td>30495</td>\n",
       "      <td>Automatic</td>\n",
       "      <td>NaN</td>\n",
       "      <td>Diesel</td>\n",
       "      <td>2</td>\n",
       "      <td>1,200</td>\n",
       "      <td>NaN</td>\n",
       "      <td>NaN</td>\n",
       "      <td>/ad/25017331</td>\n",
       "    </tr>\n",
       "    <tr>\n",
       "      <th>1</th>\n",
       "      <td>C Class</td>\n",
       "      <td>2020.0</td>\n",
       "      <td>29989</td>\n",
       "      <td>Automatic</td>\n",
       "      <td>NaN</td>\n",
       "      <td>Petrol</td>\n",
       "      <td>1.5</td>\n",
       "      <td>1,000</td>\n",
       "      <td>NaN</td>\n",
       "      <td>NaN</td>\n",
       "      <td>/ad/25043746</td>\n",
       "    </tr>\n",
       "    <tr>\n",
       "      <th>2</th>\n",
       "      <td>C Class</td>\n",
       "      <td>2020.0</td>\n",
       "      <td>37899</td>\n",
       "      <td>Automatic</td>\n",
       "      <td>NaN</td>\n",
       "      <td>Diesel</td>\n",
       "      <td>2</td>\n",
       "      <td>500</td>\n",
       "      <td>NaN</td>\n",
       "      <td>NaN</td>\n",
       "      <td>/ad/25142894</td>\n",
       "    </tr>\n",
       "    <tr>\n",
       "      <th>3</th>\n",
       "      <td>C Class</td>\n",
       "      <td>2019.0</td>\n",
       "      <td>30399</td>\n",
       "      <td>Automatic</td>\n",
       "      <td>NaN</td>\n",
       "      <td>Diesel</td>\n",
       "      <td>2</td>\n",
       "      <td>5,000</td>\n",
       "      <td>NaN</td>\n",
       "      <td>NaN</td>\n",
       "      <td>/ad/24942816</td>\n",
       "    </tr>\n",
       "    <tr>\n",
       "      <th>4</th>\n",
       "      <td>C Class</td>\n",
       "      <td>2019.0</td>\n",
       "      <td>29899</td>\n",
       "      <td>Automatic</td>\n",
       "      <td>NaN</td>\n",
       "      <td>Diesel</td>\n",
       "      <td>2</td>\n",
       "      <td>4,500</td>\n",
       "      <td>NaN</td>\n",
       "      <td>NaN</td>\n",
       "      <td>/ad/24913660</td>\n",
       "    </tr>\n",
       "  </tbody>\n",
       "</table>\n",
       "</div>"
      ],
      "text/plain": [
       "      model    year    price transmission mileage fuel_type engine_size  \\\n",
       "0   C Class  2020.0    30495    Automatic     NaN    Diesel           2   \n",
       "1   C Class  2020.0    29989    Automatic     NaN    Petrol         1.5   \n",
       "2   C Class  2020.0    37899    Automatic     NaN    Diesel           2   \n",
       "3   C Class  2019.0    30399    Automatic     NaN    Diesel           2   \n",
       "4   C Class  2019.0    29899    Automatic     NaN    Diesel           2   \n",
       "\n",
       "  mileage2 fuel_type2 engine_size2     reference  \n",
       "0    1,200        NaN          NaN  /ad/25017331  \n",
       "1    1,000        NaN          NaN  /ad/25043746  \n",
       "2      500        NaN          NaN  /ad/25142894  \n",
       "3    5,000        NaN          NaN  /ad/24942816  \n",
       "4    4,500        NaN          NaN  /ad/24913660  "
      ]
     },
     "execution_count": 275,
     "metadata": {},
     "output_type": "execute_result"
    }
   ],
   "source": [
    "# Rename the names of some columns\n",
    "df.rename(columns={'fuel type':'fuel_type', 'engine size':'engine_size', \n",
    "                   'fuel type2':'fuel_type2','engine size2':'engine_size2'}, inplace=True)\n",
    "df.head()"
   ]
  },
  {
   "cell_type": "markdown",
   "id": "a0295485",
   "metadata": {},
   "source": [
    "## Handling missing values in columns: fuel_type"
   ]
  },
  {
   "cell_type": "code",
   "execution_count": 276,
   "id": "5f67b014",
   "metadata": {},
   "outputs": [
    {
     "data": {
      "text/plain": [
       "2578"
      ]
     },
     "execution_count": 276,
     "metadata": {},
     "output_type": "execute_result"
    }
   ],
   "source": [
    "# getting the sum of null values of fuel_type column\n",
    "df.fuel_type.isnull().sum()"
   ]
  },
  {
   "cell_type": "code",
   "execution_count": 277,
   "id": "4d0666e4",
   "metadata": {},
   "outputs": [
    {
     "data": {
      "text/plain": [
       "99"
      ]
     },
     "execution_count": 277,
     "metadata": {},
     "output_type": "execute_result"
    }
   ],
   "source": [
    "# getting the sum of null values of fuel_type2 column\n",
    "df.fuel_type2.isnull().sum()"
   ]
  },
  {
   "cell_type": "code",
   "execution_count": 278,
   "id": "ace02b81",
   "metadata": {},
   "outputs": [],
   "source": [
    "# fill missing values in fuel_type2 column with values from fuel_type\n",
    "df.fuel_type2.fillna(df.fuel_type, inplace=True)"
   ]
  },
  {
   "cell_type": "code",
   "execution_count": 279,
   "id": "8d0a3fb6",
   "metadata": {},
   "outputs": [
    {
     "data": {
      "text/plain": [
       "0"
      ]
     },
     "execution_count": 279,
     "metadata": {},
     "output_type": "execute_result"
    }
   ],
   "source": [
    "# checking the missing values\n",
    "df.fuel_type2.isnull().sum()"
   ]
  },
  {
   "cell_type": "code",
   "execution_count": 280,
   "id": "095808d2",
   "metadata": {},
   "outputs": [],
   "source": [
    "# dropping fuel_type column\n",
    "df.drop(columns=['fuel_type'], inplace=True)"
   ]
  },
  {
   "cell_type": "code",
   "execution_count": 281,
   "id": "29ca5558",
   "metadata": {},
   "outputs": [],
   "source": [
    "#rename the fuel_type2 column\n",
    "df.rename(columns={'fuel_type2':'fuel_type'}, inplace=True)"
   ]
  },
  {
   "cell_type": "markdown",
   "id": "340d5fda",
   "metadata": {},
   "source": [
    "## Handling missing values in columns: mileage"
   ]
  },
  {
   "cell_type": "code",
   "execution_count": 282,
   "id": "3514fa1f",
   "metadata": {},
   "outputs": [
    {
     "data": {
      "text/plain": [
       "99"
      ]
     },
     "execution_count": 282,
     "metadata": {},
     "output_type": "execute_result"
    }
   ],
   "source": [
    "df.mileage.isnull().sum()"
   ]
  },
  {
   "cell_type": "code",
   "execution_count": 283,
   "id": "18df844a",
   "metadata": {},
   "outputs": [
    {
     "data": {
      "text/plain": [
       "17"
      ]
     },
     "execution_count": 283,
     "metadata": {},
     "output_type": "execute_result"
    }
   ],
   "source": [
    "df.mileage2.isnull().sum()"
   ]
  },
  {
   "cell_type": "code",
   "execution_count": 284,
   "id": "3ac3cb22",
   "metadata": {},
   "outputs": [],
   "source": [
    "# fill missing values in mileage2 column with values from mileage\n",
    "df.mileage2.fillna(df.mileage, inplace=True)"
   ]
  },
  {
   "cell_type": "code",
   "execution_count": 285,
   "id": "7e996b23",
   "metadata": {},
   "outputs": [],
   "source": [
    "# remove the comma from mileage2 column\n",
    "df['mileage2'] = df['mileage2'].str.replace(',', '')"
   ]
  },
  {
   "cell_type": "code",
   "execution_count": 286,
   "id": "5be6b107",
   "metadata": {},
   "outputs": [],
   "source": [
    "# parse the values of mileage2 to numerical\n",
    "df.mileage2 = pd.to_numeric(df['mileage2'], errors='coerce')"
   ]
  },
  {
   "cell_type": "code",
   "execution_count": 287,
   "id": "08aba3a1",
   "metadata": {},
   "outputs": [],
   "source": [
    "# drop mileage column\n",
    "df.drop(columns=['mileage'], inplace=True)"
   ]
  },
  {
   "cell_type": "code",
   "execution_count": 288,
   "id": "8ab79633",
   "metadata": {},
   "outputs": [],
   "source": [
    "#rename the mileage2 column\n",
    "df.rename(columns={'mileage2':'mileage'}, inplace=True)"
   ]
  },
  {
   "cell_type": "markdown",
   "id": "4cd7f97e",
   "metadata": {},
   "source": [
    "## Handling missing values and different value standard in column: engine_size"
   ]
  },
  {
   "cell_type": "code",
   "execution_count": 289,
   "id": "f4ff3917",
   "metadata": {},
   "outputs": [
    {
     "data": {
      "text/plain": [
       "65"
      ]
     },
     "execution_count": 289,
     "metadata": {},
     "output_type": "execute_result"
    }
   ],
   "source": [
    "df.engine_size.isnull().sum()"
   ]
  },
  {
   "cell_type": "code",
   "execution_count": 290,
   "id": "5b0ebdf6",
   "metadata": {},
   "outputs": [
    {
     "data": {
      "text/plain": [
       "99"
      ]
     },
     "execution_count": 290,
     "metadata": {},
     "output_type": "execute_result"
    }
   ],
   "source": [
    "df.engine_size2.isnull().sum()"
   ]
  },
  {
   "cell_type": "code",
   "execution_count": 291,
   "id": "d067a1ec",
   "metadata": {},
   "outputs": [],
   "source": [
    "# fill missing values in engine_size column with values from engine_size2\n",
    "df.engine_size.fillna(df.engine_size2, inplace=True)"
   ]
  },
  {
   "cell_type": "code",
   "execution_count": 292,
   "id": "f6a54a6c",
   "metadata": {},
   "outputs": [],
   "source": [
    "# remove the currency sign from engine_size column\n",
    "df['engine_size'] = df['engine_size'].str.replace('£', '')"
   ]
  },
  {
   "cell_type": "code",
   "execution_count": 293,
   "id": "d296a0ca",
   "metadata": {},
   "outputs": [],
   "source": [
    "# parse the values of engine_size to numerical\n",
    "df['engine_size'] = pd.to_numeric(df['engine_size'], errors='coerce')"
   ]
  },
  {
   "cell_type": "code",
   "execution_count": 294,
   "id": "b6fa95aa",
   "metadata": {},
   "outputs": [],
   "source": [
    "# Standardizing the values into engine size\n",
    "standard_size = lambda x: round(x/1000,1) if x > 1000 else round(x,1)\n",
    "df['engine_size'] = df['engine_size'].apply(standard_size)"
   ]
  },
  {
   "cell_type": "code",
   "execution_count": 295,
   "id": "7cc5efa6",
   "metadata": {},
   "outputs": [],
   "source": [
    "df.drop(columns=['engine_size2'], inplace=True)"
   ]
  },
  {
   "cell_type": "markdown",
   "id": "f7b74aea",
   "metadata": {},
   "source": [
    "## Handling wrong data type: year"
   ]
  },
  {
   "cell_type": "code",
   "execution_count": 296,
   "id": "2e5c0c06",
   "metadata": {},
   "outputs": [],
   "source": [
    "# dropping the remaining null values\n",
    "df.dropna(inplace=True)"
   ]
  },
  {
   "cell_type": "code",
   "execution_count": 297,
   "id": "2dd9c049",
   "metadata": {},
   "outputs": [],
   "source": [
    "# changing the data type of the year column\n",
    "df.year = df.year.astype('int64')"
   ]
  },
  {
   "cell_type": "markdown",
   "id": "c76fc0e0",
   "metadata": {},
   "source": [
    "## Handling unneeded columns"
   ]
  },
  {
   "cell_type": "code",
   "execution_count": 298,
   "id": "9812e4e7",
   "metadata": {},
   "outputs": [],
   "source": [
    "# dropping unneeded columns\n",
    "df.drop(columns=['model','reference'], inplace=True)"
   ]
  },
  {
   "cell_type": "markdown",
   "id": "b8bcd1e2",
   "metadata": {},
   "source": [
    "## Handling categorical data"
   ]
  },
  {
   "cell_type": "code",
   "execution_count": 299,
   "id": "2cd411df",
   "metadata": {
    "scrolled": false
   },
   "outputs": [],
   "source": [
    "# converting transmission and fuel_type columns into dummies values\n",
    "# also rename the other column into otherFuel\n",
    "dummiesTransmission = pd.get_dummies(df['transmission'], dtype='int')\n",
    "dummiesFuel = pd.get_dummies(df['fuel_type'], dtype='int')\n",
    "dummiesFuel = dummiesFuel.rename(columns={'Other':'otherFuel'})\n",
    "\n"
   ]
  },
  {
   "cell_type": "code",
   "execution_count": 300,
   "id": "d2d736fd",
   "metadata": {},
   "outputs": [],
   "source": [
    "# join the dummiesFuel dataframe into the main dataframe\n",
    "df = df.join(dummiesFuel)"
   ]
  },
  {
   "cell_type": "code",
   "execution_count": 301,
   "id": "a4abeb5b",
   "metadata": {},
   "outputs": [],
   "source": [
    "# join the dummiesTransmission dataframe into the main dataframe\n",
    "df = df.join(dummiesTransmission)"
   ]
  },
  {
   "cell_type": "code",
   "execution_count": 302,
   "id": "fa6b03d6",
   "metadata": {},
   "outputs": [],
   "source": [
    "# rename the other column into otherTransmission\n",
    "df.rename(columns={'Other':'otherTransmission'}, inplace=True)"
   ]
  },
  {
   "cell_type": "code",
   "execution_count": 303,
   "id": "45587dd4",
   "metadata": {},
   "outputs": [],
   "source": [
    "# dropping transmission and fuel_type columns\n",
    "df.drop(columns=['transmission', 'fuel_type'], inplace=True)"
   ]
  },
  {
   "cell_type": "code",
   "execution_count": 304,
   "id": "9b776640",
   "metadata": {
    "scrolled": false
   },
   "outputs": [
    {
     "data": {
      "text/html": [
       "<div>\n",
       "<style scoped>\n",
       "    .dataframe tbody tr th:only-of-type {\n",
       "        vertical-align: middle;\n",
       "    }\n",
       "\n",
       "    .dataframe tbody tr th {\n",
       "        vertical-align: top;\n",
       "    }\n",
       "\n",
       "    .dataframe thead th {\n",
       "        text-align: right;\n",
       "    }\n",
       "</style>\n",
       "<table border=\"1\" class=\"dataframe\">\n",
       "  <thead>\n",
       "    <tr style=\"text-align: right;\">\n",
       "      <th></th>\n",
       "      <th>year</th>\n",
       "      <th>price</th>\n",
       "      <th>engine_size</th>\n",
       "      <th>mileage</th>\n",
       "      <th>Diesel</th>\n",
       "      <th>Hybrid</th>\n",
       "      <th>otherFuel</th>\n",
       "      <th>Petrol</th>\n",
       "      <th>Automatic</th>\n",
       "      <th>Manual</th>\n",
       "      <th>otherTransmission</th>\n",
       "      <th>Semi-Auto</th>\n",
       "    </tr>\n",
       "  </thead>\n",
       "  <tbody>\n",
       "    <tr>\n",
       "      <th>0</th>\n",
       "      <td>2020</td>\n",
       "      <td>30495</td>\n",
       "      <td>2.0</td>\n",
       "      <td>1200.0</td>\n",
       "      <td>1</td>\n",
       "      <td>0</td>\n",
       "      <td>0</td>\n",
       "      <td>0</td>\n",
       "      <td>1</td>\n",
       "      <td>0</td>\n",
       "      <td>0</td>\n",
       "      <td>0</td>\n",
       "    </tr>\n",
       "    <tr>\n",
       "      <th>1</th>\n",
       "      <td>2020</td>\n",
       "      <td>29989</td>\n",
       "      <td>1.5</td>\n",
       "      <td>1000.0</td>\n",
       "      <td>0</td>\n",
       "      <td>0</td>\n",
       "      <td>0</td>\n",
       "      <td>1</td>\n",
       "      <td>1</td>\n",
       "      <td>0</td>\n",
       "      <td>0</td>\n",
       "      <td>0</td>\n",
       "    </tr>\n",
       "    <tr>\n",
       "      <th>2</th>\n",
       "      <td>2020</td>\n",
       "      <td>37899</td>\n",
       "      <td>2.0</td>\n",
       "      <td>500.0</td>\n",
       "      <td>1</td>\n",
       "      <td>0</td>\n",
       "      <td>0</td>\n",
       "      <td>0</td>\n",
       "      <td>1</td>\n",
       "      <td>0</td>\n",
       "      <td>0</td>\n",
       "      <td>0</td>\n",
       "    </tr>\n",
       "    <tr>\n",
       "      <th>3</th>\n",
       "      <td>2019</td>\n",
       "      <td>30399</td>\n",
       "      <td>2.0</td>\n",
       "      <td>5000.0</td>\n",
       "      <td>1</td>\n",
       "      <td>0</td>\n",
       "      <td>0</td>\n",
       "      <td>0</td>\n",
       "      <td>1</td>\n",
       "      <td>0</td>\n",
       "      <td>0</td>\n",
       "      <td>0</td>\n",
       "    </tr>\n",
       "    <tr>\n",
       "      <th>4</th>\n",
       "      <td>2019</td>\n",
       "      <td>29899</td>\n",
       "      <td>2.0</td>\n",
       "      <td>4500.0</td>\n",
       "      <td>1</td>\n",
       "      <td>0</td>\n",
       "      <td>0</td>\n",
       "      <td>0</td>\n",
       "      <td>1</td>\n",
       "      <td>0</td>\n",
       "      <td>0</td>\n",
       "      <td>0</td>\n",
       "    </tr>\n",
       "    <tr>\n",
       "      <th>...</th>\n",
       "      <td>...</td>\n",
       "      <td>...</td>\n",
       "      <td>...</td>\n",
       "      <td>...</td>\n",
       "      <td>...</td>\n",
       "      <td>...</td>\n",
       "      <td>...</td>\n",
       "      <td>...</td>\n",
       "      <td>...</td>\n",
       "      <td>...</td>\n",
       "      <td>...</td>\n",
       "      <td>...</td>\n",
       "    </tr>\n",
       "    <tr>\n",
       "      <th>3902</th>\n",
       "      <td>2017</td>\n",
       "      <td>14700</td>\n",
       "      <td>150.0</td>\n",
       "      <td>70.6</td>\n",
       "      <td>1</td>\n",
       "      <td>0</td>\n",
       "      <td>0</td>\n",
       "      <td>0</td>\n",
       "      <td>0</td>\n",
       "      <td>1</td>\n",
       "      <td>0</td>\n",
       "      <td>0</td>\n",
       "    </tr>\n",
       "    <tr>\n",
       "      <th>3903</th>\n",
       "      <td>2018</td>\n",
       "      <td>18500</td>\n",
       "      <td>150.0</td>\n",
       "      <td>64.2</td>\n",
       "      <td>1</td>\n",
       "      <td>0</td>\n",
       "      <td>0</td>\n",
       "      <td>0</td>\n",
       "      <td>1</td>\n",
       "      <td>0</td>\n",
       "      <td>0</td>\n",
       "      <td>0</td>\n",
       "    </tr>\n",
       "    <tr>\n",
       "      <th>3904</th>\n",
       "      <td>2014</td>\n",
       "      <td>11900</td>\n",
       "      <td>20.0</td>\n",
       "      <td>65.7</td>\n",
       "      <td>1</td>\n",
       "      <td>0</td>\n",
       "      <td>0</td>\n",
       "      <td>0</td>\n",
       "      <td>0</td>\n",
       "      <td>1</td>\n",
       "      <td>0</td>\n",
       "      <td>0</td>\n",
       "    </tr>\n",
       "    <tr>\n",
       "      <th>3905</th>\n",
       "      <td>2014</td>\n",
       "      <td>11300</td>\n",
       "      <td>145.0</td>\n",
       "      <td>56.5</td>\n",
       "      <td>1</td>\n",
       "      <td>0</td>\n",
       "      <td>0</td>\n",
       "      <td>0</td>\n",
       "      <td>1</td>\n",
       "      <td>0</td>\n",
       "      <td>0</td>\n",
       "      <td>0</td>\n",
       "    </tr>\n",
       "    <tr>\n",
       "      <th>3906</th>\n",
       "      <td>2014</td>\n",
       "      <td>14800</td>\n",
       "      <td>30.0</td>\n",
       "      <td>64.2</td>\n",
       "      <td>1</td>\n",
       "      <td>0</td>\n",
       "      <td>0</td>\n",
       "      <td>0</td>\n",
       "      <td>1</td>\n",
       "      <td>0</td>\n",
       "      <td>0</td>\n",
       "      <td>0</td>\n",
       "    </tr>\n",
       "  </tbody>\n",
       "</table>\n",
       "<p>3902 rows × 12 columns</p>\n",
       "</div>"
      ],
      "text/plain": [
       "      year    price  engine_size  mileage  Diesel  Hybrid  otherFuel  Petrol  \\\n",
       "0     2020    30495          2.0   1200.0       1       0          0       0   \n",
       "1     2020    29989          1.5   1000.0       0       0          0       1   \n",
       "2     2020    37899          2.0    500.0       1       0          0       0   \n",
       "3     2019    30399          2.0   5000.0       1       0          0       0   \n",
       "4     2019    29899          2.0   4500.0       1       0          0       0   \n",
       "...    ...      ...          ...      ...     ...     ...        ...     ...   \n",
       "3902  2017    14700        150.0     70.6       1       0          0       0   \n",
       "3903  2018    18500        150.0     64.2       1       0          0       0   \n",
       "3904  2014    11900         20.0     65.7       1       0          0       0   \n",
       "3905  2014    11300        145.0     56.5       1       0          0       0   \n",
       "3906  2014    14800         30.0     64.2       1       0          0       0   \n",
       "\n",
       "      Automatic  Manual  otherTransmission  Semi-Auto  \n",
       "0             1       0                  0          0  \n",
       "1             1       0                  0          0  \n",
       "2             1       0                  0          0  \n",
       "3             1       0                  0          0  \n",
       "4             1       0                  0          0  \n",
       "...         ...     ...                ...        ...  \n",
       "3902          0       1                  0          0  \n",
       "3903          1       0                  0          0  \n",
       "3904          0       1                  0          0  \n",
       "3905          1       0                  0          0  \n",
       "3906          1       0                  0          0  \n",
       "\n",
       "[3902 rows x 12 columns]"
      ]
     },
     "execution_count": 304,
     "metadata": {},
     "output_type": "execute_result"
    }
   ],
   "source": [
    "df"
   ]
  },
  {
   "cell_type": "code",
   "execution_count": 305,
   "id": "cd0737e0",
   "metadata": {},
   "outputs": [],
   "source": [
    "# parse the values of price to numerical\n",
    "df['price'] = pd.to_numeric(df['price'], errors='coerce')"
   ]
  },
  {
   "cell_type": "code",
   "execution_count": 306,
   "id": "0a38e260",
   "metadata": {},
   "outputs": [
    {
     "name": "stdout",
     "output_type": "stream",
     "text": [
      "<class 'pandas.core.frame.DataFrame'>\n",
      "Index: 3902 entries, 0 to 3906\n",
      "Data columns (total 12 columns):\n",
      " #   Column             Non-Null Count  Dtype  \n",
      "---  ------             --------------  -----  \n",
      " 0   year               3902 non-null   int64  \n",
      " 1   price              3902 non-null   int64  \n",
      " 2   engine_size        3902 non-null   float64\n",
      " 3   mileage            3902 non-null   float64\n",
      " 4   Diesel             3902 non-null   int64  \n",
      " 5   Hybrid             3902 non-null   int64  \n",
      " 6   otherFuel          3902 non-null   int64  \n",
      " 7   Petrol             3902 non-null   int64  \n",
      " 8   Automatic          3902 non-null   int64  \n",
      " 9   Manual             3902 non-null   int64  \n",
      " 10  otherTransmission  3902 non-null   int64  \n",
      " 11  Semi-Auto          3902 non-null   int64  \n",
      "dtypes: float64(2), int64(10)\n",
      "memory usage: 525.3 KB\n"
     ]
    }
   ],
   "source": [
    "# making sure that values of mileage and price are into numeric format\n",
    "df.info()"
   ]
  },
  {
   "cell_type": "markdown",
   "id": "20f2392b",
   "metadata": {},
   "source": [
    "## Saving the cleaned data into csv format"
   ]
  },
  {
   "cell_type": "code",
   "execution_count": 307,
   "id": "0c16e4ca",
   "metadata": {},
   "outputs": [
    {
     "data": {
      "text/plain": [
       "year                 0\n",
       "price                0\n",
       "engine_size          0\n",
       "mileage              0\n",
       "Diesel               0\n",
       "Hybrid               0\n",
       "otherFuel            0\n",
       "Petrol               0\n",
       "Automatic            0\n",
       "Manual               0\n",
       "otherTransmission    0\n",
       "Semi-Auto            0\n",
       "dtype: int64"
      ]
     },
     "execution_count": 307,
     "metadata": {},
     "output_type": "execute_result"
    }
   ],
   "source": [
    "# checking any null values\n",
    "df.isnull().sum()"
   ]
  },
  {
   "cell_type": "code",
   "execution_count": 308,
   "id": "f452c06e",
   "metadata": {},
   "outputs": [],
   "source": [
    "# saving the dataset\n",
    "df.to_csv('cleaned_data.csv', index=False)"
   ]
  },
  {
   "cell_type": "markdown",
   "id": "ae1d8e78",
   "metadata": {},
   "source": [
    "## Exploratory Data Analysis and Visualization"
   ]
  },
  {
   "cell_type": "code",
   "execution_count": 309,
   "id": "676b16b1",
   "metadata": {},
   "outputs": [
    {
     "name": "stdout",
     "output_type": "stream",
     "text": [
      "This dataset has 3902 data points with 12 variables\n"
     ]
    },
    {
     "data": {
      "text/html": [
       "<div>\n",
       "<style scoped>\n",
       "    .dataframe tbody tr th:only-of-type {\n",
       "        vertical-align: middle;\n",
       "    }\n",
       "\n",
       "    .dataframe tbody tr th {\n",
       "        vertical-align: top;\n",
       "    }\n",
       "\n",
       "    .dataframe thead th {\n",
       "        text-align: right;\n",
       "    }\n",
       "</style>\n",
       "<table border=\"1\" class=\"dataframe\">\n",
       "  <thead>\n",
       "    <tr style=\"text-align: right;\">\n",
       "      <th></th>\n",
       "      <th>year</th>\n",
       "      <th>price</th>\n",
       "      <th>engine_size</th>\n",
       "      <th>mileage</th>\n",
       "      <th>Diesel</th>\n",
       "      <th>Hybrid</th>\n",
       "      <th>otherFuel</th>\n",
       "      <th>Petrol</th>\n",
       "      <th>Automatic</th>\n",
       "      <th>Manual</th>\n",
       "      <th>otherTransmission</th>\n",
       "      <th>Semi-Auto</th>\n",
       "    </tr>\n",
       "  </thead>\n",
       "  <tbody>\n",
       "    <tr>\n",
       "      <th>0</th>\n",
       "      <td>2020</td>\n",
       "      <td>30495</td>\n",
       "      <td>2.0</td>\n",
       "      <td>1200.0</td>\n",
       "      <td>1</td>\n",
       "      <td>0</td>\n",
       "      <td>0</td>\n",
       "      <td>0</td>\n",
       "      <td>1</td>\n",
       "      <td>0</td>\n",
       "      <td>0</td>\n",
       "      <td>0</td>\n",
       "    </tr>\n",
       "    <tr>\n",
       "      <th>1</th>\n",
       "      <td>2020</td>\n",
       "      <td>29989</td>\n",
       "      <td>1.5</td>\n",
       "      <td>1000.0</td>\n",
       "      <td>0</td>\n",
       "      <td>0</td>\n",
       "      <td>0</td>\n",
       "      <td>1</td>\n",
       "      <td>1</td>\n",
       "      <td>0</td>\n",
       "      <td>0</td>\n",
       "      <td>0</td>\n",
       "    </tr>\n",
       "    <tr>\n",
       "      <th>2</th>\n",
       "      <td>2020</td>\n",
       "      <td>37899</td>\n",
       "      <td>2.0</td>\n",
       "      <td>500.0</td>\n",
       "      <td>1</td>\n",
       "      <td>0</td>\n",
       "      <td>0</td>\n",
       "      <td>0</td>\n",
       "      <td>1</td>\n",
       "      <td>0</td>\n",
       "      <td>0</td>\n",
       "      <td>0</td>\n",
       "    </tr>\n",
       "    <tr>\n",
       "      <th>3</th>\n",
       "      <td>2019</td>\n",
       "      <td>30399</td>\n",
       "      <td>2.0</td>\n",
       "      <td>5000.0</td>\n",
       "      <td>1</td>\n",
       "      <td>0</td>\n",
       "      <td>0</td>\n",
       "      <td>0</td>\n",
       "      <td>1</td>\n",
       "      <td>0</td>\n",
       "      <td>0</td>\n",
       "      <td>0</td>\n",
       "    </tr>\n",
       "    <tr>\n",
       "      <th>4</th>\n",
       "      <td>2019</td>\n",
       "      <td>29899</td>\n",
       "      <td>2.0</td>\n",
       "      <td>4500.0</td>\n",
       "      <td>1</td>\n",
       "      <td>0</td>\n",
       "      <td>0</td>\n",
       "      <td>0</td>\n",
       "      <td>1</td>\n",
       "      <td>0</td>\n",
       "      <td>0</td>\n",
       "      <td>0</td>\n",
       "    </tr>\n",
       "  </tbody>\n",
       "</table>\n",
       "</div>"
      ],
      "text/plain": [
       "   year  price  engine_size  mileage  Diesel  Hybrid  otherFuel  Petrol  \\\n",
       "0  2020  30495          2.0   1200.0       1       0          0       0   \n",
       "1  2020  29989          1.5   1000.0       0       0          0       1   \n",
       "2  2020  37899          2.0    500.0       1       0          0       0   \n",
       "3  2019  30399          2.0   5000.0       1       0          0       0   \n",
       "4  2019  29899          2.0   4500.0       1       0          0       0   \n",
       "\n",
       "   Automatic  Manual  otherTransmission  Semi-Auto  \n",
       "0          1       0                  0          0  \n",
       "1          1       0                  0          0  \n",
       "2          1       0                  0          0  \n",
       "3          1       0                  0          0  \n",
       "4          1       0                  0          0  "
      ]
     },
     "execution_count": 309,
     "metadata": {},
     "output_type": "execute_result"
    }
   ],
   "source": [
    "# load the cleaned dataset and have a peek at the dataset\n",
    "df = pd.read_csv('cleaned_data.csv')\n",
    "print('This dataset has {} data points with {} variables'.format(*df.shape))\n",
    "df.head()"
   ]
  },
  {
   "cell_type": "code",
   "execution_count": 310,
   "id": "a0c195d9",
   "metadata": {
    "scrolled": false
   },
   "outputs": [
    {
     "data": {
      "text/html": [
       "<div>\n",
       "<style scoped>\n",
       "    .dataframe tbody tr th:only-of-type {\n",
       "        vertical-align: middle;\n",
       "    }\n",
       "\n",
       "    .dataframe tbody tr th {\n",
       "        vertical-align: top;\n",
       "    }\n",
       "\n",
       "    .dataframe thead th {\n",
       "        text-align: right;\n",
       "    }\n",
       "</style>\n",
       "<table border=\"1\" class=\"dataframe\">\n",
       "  <thead>\n",
       "    <tr style=\"text-align: right;\">\n",
       "      <th></th>\n",
       "      <th>year</th>\n",
       "      <th>price</th>\n",
       "      <th>engine_size</th>\n",
       "      <th>mileage</th>\n",
       "      <th>Diesel</th>\n",
       "      <th>Hybrid</th>\n",
       "      <th>otherFuel</th>\n",
       "      <th>Petrol</th>\n",
       "      <th>Automatic</th>\n",
       "      <th>Manual</th>\n",
       "      <th>otherTransmission</th>\n",
       "      <th>Semi-Auto</th>\n",
       "    </tr>\n",
       "  </thead>\n",
       "  <tbody>\n",
       "    <tr>\n",
       "      <th>count</th>\n",
       "      <td>3902.000000</td>\n",
       "      <td>3902.000000</td>\n",
       "      <td>3902.000000</td>\n",
       "      <td>3902.000000</td>\n",
       "      <td>3902.000000</td>\n",
       "      <td>3902.000000</td>\n",
       "      <td>3902.000000</td>\n",
       "      <td>3902.000000</td>\n",
       "      <td>3902.000000</td>\n",
       "      <td>3902.000000</td>\n",
       "      <td>3902.000000</td>\n",
       "      <td>3902.000000</td>\n",
       "    </tr>\n",
       "    <tr>\n",
       "      <th>mean</th>\n",
       "      <td>2017.343670</td>\n",
       "      <td>23690.470272</td>\n",
       "      <td>114.068016</td>\n",
       "      <td>1215.691620</td>\n",
       "      <td>0.599949</td>\n",
       "      <td>0.038954</td>\n",
       "      <td>0.001538</td>\n",
       "      <td>0.359559</td>\n",
       "      <td>0.417991</td>\n",
       "      <td>0.050999</td>\n",
       "      <td>0.000256</td>\n",
       "      <td>0.530753</td>\n",
       "    </tr>\n",
       "    <tr>\n",
       "      <th>std</th>\n",
       "      <td>2.204964</td>\n",
       "      <td>8960.813989</td>\n",
       "      <td>65.740359</td>\n",
       "      <td>8803.921077</td>\n",
       "      <td>0.489971</td>\n",
       "      <td>0.193511</td>\n",
       "      <td>0.039188</td>\n",
       "      <td>0.479933</td>\n",
       "      <td>0.493292</td>\n",
       "      <td>0.220025</td>\n",
       "      <td>0.016009</td>\n",
       "      <td>0.499117</td>\n",
       "    </tr>\n",
       "    <tr>\n",
       "      <th>min</th>\n",
       "      <td>1991.000000</td>\n",
       "      <td>1290.000000</td>\n",
       "      <td>0.000000</td>\n",
       "      <td>23.000000</td>\n",
       "      <td>0.000000</td>\n",
       "      <td>0.000000</td>\n",
       "      <td>0.000000</td>\n",
       "      <td>0.000000</td>\n",
       "      <td>0.000000</td>\n",
       "      <td>0.000000</td>\n",
       "      <td>0.000000</td>\n",
       "      <td>0.000000</td>\n",
       "    </tr>\n",
       "    <tr>\n",
       "      <th>25%</th>\n",
       "      <td>2016.000000</td>\n",
       "      <td>17696.000000</td>\n",
       "      <td>30.000000</td>\n",
       "      <td>46.300000</td>\n",
       "      <td>0.000000</td>\n",
       "      <td>0.000000</td>\n",
       "      <td>0.000000</td>\n",
       "      <td>0.000000</td>\n",
       "      <td>0.000000</td>\n",
       "      <td>0.000000</td>\n",
       "      <td>0.000000</td>\n",
       "      <td>0.000000</td>\n",
       "    </tr>\n",
       "    <tr>\n",
       "      <th>50%</th>\n",
       "      <td>2018.000000</td>\n",
       "      <td>22980.000000</td>\n",
       "      <td>145.000000</td>\n",
       "      <td>58.900000</td>\n",
       "      <td>1.000000</td>\n",
       "      <td>0.000000</td>\n",
       "      <td>0.000000</td>\n",
       "      <td>0.000000</td>\n",
       "      <td>0.000000</td>\n",
       "      <td>0.000000</td>\n",
       "      <td>0.000000</td>\n",
       "      <td>1.000000</td>\n",
       "    </tr>\n",
       "    <tr>\n",
       "      <th>75%</th>\n",
       "      <td>2019.000000</td>\n",
       "      <td>28900.000000</td>\n",
       "      <td>145.000000</td>\n",
       "      <td>64.200000</td>\n",
       "      <td>1.000000</td>\n",
       "      <td>0.000000</td>\n",
       "      <td>0.000000</td>\n",
       "      <td>1.000000</td>\n",
       "      <td>1.000000</td>\n",
       "      <td>0.000000</td>\n",
       "      <td>0.000000</td>\n",
       "      <td>1.000000</td>\n",
       "    </tr>\n",
       "    <tr>\n",
       "      <th>max</th>\n",
       "      <td>2020.000000</td>\n",
       "      <td>88995.000000</td>\n",
       "      <td>580.000000</td>\n",
       "      <td>173000.000000</td>\n",
       "      <td>1.000000</td>\n",
       "      <td>1.000000</td>\n",
       "      <td>1.000000</td>\n",
       "      <td>1.000000</td>\n",
       "      <td>1.000000</td>\n",
       "      <td>1.000000</td>\n",
       "      <td>1.000000</td>\n",
       "      <td>1.000000</td>\n",
       "    </tr>\n",
       "  </tbody>\n",
       "</table>\n",
       "</div>"
      ],
      "text/plain": [
       "              year         price  engine_size        mileage       Diesel  \\\n",
       "count  3902.000000   3902.000000  3902.000000    3902.000000  3902.000000   \n",
       "mean   2017.343670  23690.470272   114.068016    1215.691620     0.599949   \n",
       "std       2.204964   8960.813989    65.740359    8803.921077     0.489971   \n",
       "min    1991.000000   1290.000000     0.000000      23.000000     0.000000   \n",
       "25%    2016.000000  17696.000000    30.000000      46.300000     0.000000   \n",
       "50%    2018.000000  22980.000000   145.000000      58.900000     1.000000   \n",
       "75%    2019.000000  28900.000000   145.000000      64.200000     1.000000   \n",
       "max    2020.000000  88995.000000   580.000000  173000.000000     1.000000   \n",
       "\n",
       "            Hybrid    otherFuel       Petrol    Automatic       Manual  \\\n",
       "count  3902.000000  3902.000000  3902.000000  3902.000000  3902.000000   \n",
       "mean      0.038954     0.001538     0.359559     0.417991     0.050999   \n",
       "std       0.193511     0.039188     0.479933     0.493292     0.220025   \n",
       "min       0.000000     0.000000     0.000000     0.000000     0.000000   \n",
       "25%       0.000000     0.000000     0.000000     0.000000     0.000000   \n",
       "50%       0.000000     0.000000     0.000000     0.000000     0.000000   \n",
       "75%       0.000000     0.000000     1.000000     1.000000     0.000000   \n",
       "max       1.000000     1.000000     1.000000     1.000000     1.000000   \n",
       "\n",
       "       otherTransmission    Semi-Auto  \n",
       "count        3902.000000  3902.000000  \n",
       "mean            0.000256     0.530753  \n",
       "std             0.016009     0.499117  \n",
       "min             0.000000     0.000000  \n",
       "25%             0.000000     0.000000  \n",
       "50%             0.000000     1.000000  \n",
       "75%             0.000000     1.000000  \n",
       "max             1.000000     1.000000  "
      ]
     },
     "execution_count": 310,
     "metadata": {},
     "output_type": "execute_result"
    }
   ],
   "source": [
    "# get some summary statistics \n",
    "df.describe()"
   ]
  },
  {
   "cell_type": "code",
   "execution_count": null,
   "id": "fbb97f17",
   "metadata": {},
   "outputs": [],
   "source": []
  },
  {
   "cell_type": "code",
   "execution_count": null,
   "id": "76cb37eb",
   "metadata": {},
   "outputs": [],
   "source": []
  },
  {
   "cell_type": "code",
   "execution_count": null,
   "id": "28b151bd",
   "metadata": {},
   "outputs": [],
   "source": []
  },
  {
   "cell_type": "code",
   "execution_count": null,
   "id": "5846fc87",
   "metadata": {},
   "outputs": [],
   "source": []
  },
  {
   "cell_type": "code",
   "execution_count": null,
   "id": "dbc233a5",
   "metadata": {},
   "outputs": [],
   "source": []
  },
  {
   "cell_type": "code",
   "execution_count": null,
   "id": "b5cb4dde",
   "metadata": {},
   "outputs": [],
   "source": []
  }
 ],
 "metadata": {
  "kernelspec": {
   "display_name": "Python 3 (ipykernel)",
   "language": "python",
   "name": "python3"
  },
  "language_info": {
   "codemirror_mode": {
    "name": "ipython",
    "version": 3
   },
   "file_extension": ".py",
   "mimetype": "text/x-python",
   "name": "python",
   "nbconvert_exporter": "python",
   "pygments_lexer": "ipython3",
   "version": "3.11.5"
  }
 },
 "nbformat": 4,
 "nbformat_minor": 5
}
